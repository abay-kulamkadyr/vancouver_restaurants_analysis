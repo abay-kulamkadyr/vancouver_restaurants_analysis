{
 "cells": [
  {
   "cell_type": "code",
   "execution_count": 1,
   "id": "744dd8af-50f4-48e7-b6fa-45b9f56e8e2a",
   "metadata": {},
   "outputs": [],
   "source": [
    "import pandas as pd\n",
    "import matplotlib.pyplot as plt\n",
    "\n",
    "data = pd.read_json('data/amenities-vancouver-v2.json', lines=True)\n",
    "data = data[data['name'].notna()] # many amenities dont have names\n",
    "#data"
   ]
  },
  {
   "cell_type": "code",
   "execution_count": 2,
   "id": "f8770d85-ba36-43d6-90a4-62b3b061d2a9",
   "metadata": {},
   "outputs": [
    {
     "name": "stdout",
     "output_type": "stream",
     "text": [
      "['art_gallery' 'ferry_terminal' 'library' 'post_office' 'pharmacy'\n",
      " 'police' 'fast_food' 'pub' 'theatre' 'cafe' 'restaurant' 'arts_centre'\n",
      " 'fuel' 'atm' 'bank' 'place_of_worship' 'school' 'public_building'\n",
      " 'bus_station' 'doctors' 'community_centre' 'parking' 'townhall' 'bench'\n",
      " 'customs' 'university' 'bicycle_parking' 'bureau_de_change' 'cinema'\n",
      " 'dentist' 'nightclub' 'bar' 'recycling' 'fire_station' 'car_rental'\n",
      " 'ice_cream' 'prison' 'clinic' 'shelter' 'hospital' 'construction'\n",
      " 'toilets' 'vending_machine' 'clock' 'nursing_home' 'kindergarten'\n",
      " 'housing co-op' 'Observation Platform' 'telephone' 'veterinary' 'college'\n",
      " 'social_facility' 'taxi' 'spa' 'post_box' 'social_centre'\n",
      " 'waste_disposal' 'parking_entrance' 'weighbridge' 'marketplace'\n",
      " 'fountain' 'lounge' 'car_wash' 'conference_centre' 'boat_rental'\n",
      " 'food_court' 'childcare' 'bicycle_rental' 'internet_cafe' 'studio'\n",
      " 'public_bookcase' 'bbq' 'casino' 'events_venue' 'shower' 'biergarten'\n",
      " 'music_venue' 'Education Centre' 'charging_station' 'language_school'\n",
      " 'driving_school' 'postal_service' 'leisure' 'dojo' 'animal_boarding'\n",
      " 'tattoo_parlor' 'prep_school' 'juice_bar' 'disused:restaurant'\n",
      " 'animal_shelter' 'waste_basket' 'hunting_stand' 'animal_training'\n",
      " 'sanitary_dump_station' 'courthouse' 'music_school' 'financial_advice'\n",
      " 'drinking_water' 'coworking_space' 'shop|clothes' 'research_institute'\n",
      " 'first_aid' 'parcel_locker' 'toy_library' 'motorcycle_rental' 'monastery'\n",
      " 'day_use' 'money_transfer' 'bicycle_repair_station' 'water_point'\n",
      " 'bear_box' 'post_depot' 'training' 'cram_school' 'ranger_station'\n",
      " 'atm;bank' 'meditation_centre' 'motorcycle_parking' 'bistro' 'gambling'\n",
      " 'ski_rental' 'family_centre' 'karaoke_box' 'storage_rental' 'dog_walking'\n",
      " 'billiard_hall' 'lifeboat_station' 'healthcare' 'boat_sharing' 'science'\n",
      " 'workshop' 'safety' 'lobby' 'fish_hatchery' 'public_bath' 'parking_space'\n",
      " 'boat_storage' 'watering_place' 'fire pit' 'hookah_lounge' 'car_sharing'\n",
      " 'rescue_station' 'compressed_air' 'laboratory' 'give_box'\n",
      " 'restaurant;post_office' 'cafe;fuel' 'waste_transfer_station' 'locker'\n",
      " 'tow_truck' 'car_rep' 'public']\n"
     ]
    }
   ],
   "source": [
    "print(data[\"amenity\"].unique())"
   ]
  },
  {
   "cell_type": "code",
   "execution_count": 3,
   "id": "505aec11-e391-45ea-86bb-1c6dbccd70d5",
   "metadata": {},
   "outputs": [],
   "source": [
    "AMENITIES = [\n",
    "    'cafe', 'fast_food', 'bbq',\n",
    "    'restaurant', 'pub', 'bar', \n",
    "    'food_court', 'ice_cream', 'nightclub',\n",
    "    'marketplace', 'bistro', 'juice_bar',\n",
    "    'lounge', 'biergarten', 'casino']"
   ]
  },
  {
   "cell_type": "code",
   "execution_count": 4,
   "id": "a3eed454-d18d-40f8-b8c2-576b787bed6c",
   "metadata": {},
   "outputs": [],
   "source": [
    "# only have required amenities\n",
    "data = data[data['amenity'].isin(AMENITIES)]\n",
    "#data"
   ]
  },
  {
   "cell_type": "code",
   "execution_count": 5,
   "id": "3ffb6b76-d637-4bee-adfe-6092d8350cc7",
   "metadata": {},
   "outputs": [],
   "source": [
    "data['cuisine'] = data['tags'].apply(lambda t: t.get('cuisine')).dropna()\n",
    "#data"
   ]
  },
  {
   "cell_type": "code",
   "execution_count": 6,
   "id": "4655b33c-8f39-4672-9df8-921f1b43c2c7",
   "metadata": {},
   "outputs": [],
   "source": [
    "data.to_json('data/cleaned-data/cleaned-amenities-vancouver.json');"
   ]
  },
  {
   "cell_type": "code",
   "execution_count": 7,
   "id": "4cf8f208-c4a7-4994-8faf-121deb7ff4e6",
   "metadata": {},
   "outputs": [],
   "source": [
    "#pd.set_option('display.max_rows', None)\n",
    "#data['cuisine'].value_counts()"
   ]
  }
 ],
 "metadata": {
  "kernelspec": {
   "display_name": "Python 3 (ipykernel)",
   "language": "python",
   "name": "python3"
  },
  "language_info": {
   "codemirror_mode": {
    "name": "ipython",
    "version": 3
   },
   "file_extension": ".py",
   "mimetype": "text/x-python",
   "name": "python",
   "nbconvert_exporter": "python",
   "pygments_lexer": "ipython3",
   "version": "3.9.7"
  }
 },
 "nbformat": 4,
 "nbformat_minor": 5
}
