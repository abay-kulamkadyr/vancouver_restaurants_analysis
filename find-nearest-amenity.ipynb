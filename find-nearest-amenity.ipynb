{
 "cells": [
  {
   "cell_type": "markdown",
   "id": "6e5c8352-47cd-435d-a911-cfc979dc4449",
   "metadata": {},
   "source": [
    "**FIND NEAREST COMPETITIORS"
   ]
  },
  {
   "cell_type": "code",
   "execution_count": 1,
   "id": "7c4bc81b-8201-4334-9768-26b019be7deb",
   "metadata": {},
   "outputs": [],
   "source": [
    "from math import cos, sqrt, pi\n",
    "import pandas as pd\n",
    "import plotly.express as px\n",
    "import plotly.graph_objects as go"
   ]
  },
  {
   "cell_type": "markdown",
   "id": "0ed5dd9d-9b4f-4f64-a048-96a658d23605",
   "metadata": {},
   "source": [
    "**LOAD DATA"
   ]
  },
  {
   "cell_type": "code",
   "execution_count": null,
   "id": "4324897a-2743-4e21-a1bf-e2bd7796d446",
   "metadata": {},
   "outputs": [],
   "source": [
    "# load data\n",
    "data = pd.read_json('data/cleaned-data/cleaned-amenities-vancouver.json')\n",
    "# test cuisine: indian\n",
    "#data = data[data['cuisine'] == 'indian']\n",
    "#data\n",
    "# test coordinates\n",
    "x = float(input(\"Enter x coordinate: \"))\n",
    "y = float(input(\"Enter y coordinate: \"))\n",
    "name = input(\"Enter name of amenity: \")\n",
    "cuisine = input(\"Enter cuisine: \")\n",
    "# create custom dataframe\n",
    "d = {'lat': [x], 'lon': [y], 'amenity':'you', 'name': name, 'cuisine': cuisine, 'x2+y2': [0]}\n",
    "df = pd.DataFrame(data=d)\n",
    "#df"
   ]
  },
  {
   "cell_type": "markdown",
   "id": "fc8cf23e-eac1-41b5-87bb-5c0df11aa007",
   "metadata": {},
   "source": [
    "**FIND NEAREST AMENITIES"
   ]
  },
  {
   "cell_type": "code",
   "execution_count": null,
   "id": "955a4c85-c4b9-4bed-af6d-59c5354fe23f",
   "metadata": {},
   "outputs": [],
   "source": [
    "# find all amenities with a certain distance from point\n",
    "data['x2'] = (x - data['lat'])**2\n",
    "data['y2'] = (y - data['lon'])**2\n",
    "data['x2+y2'] = data['x2'] + data['y2']\n",
    "data = data[data['x2+y2'] < 0.0001]\n",
    "data = data.drop(['timestamp', 'tags', 'x2', 'y2'], axis=1)\n",
    "#data"
   ]
  },
  {
   "cell_type": "code",
   "execution_count": null,
   "id": "6ce2aab7-3d5d-4462-a97a-680857f566a3",
   "metadata": {},
   "outputs": [],
   "source": [
    "data = data.append(df, ignore_index = True)\n",
    "#data"
   ]
  },
  {
   "cell_type": "code",
   "execution_count": null,
   "id": "e8e558de-f5f6-4173-b3d3-5a9f63e872fc",
   "metadata": {},
   "outputs": [],
   "source": [
    "px.set_mapbox_access_token(\"pk.eyJ1Ijoic2lkZHAyNzQiLCJhIjoiY2txZHM2bjdyMDd6bjJvbWxkcG5odW5zNCJ9.SZll1uNjsTQ-IdGd1n7zCw\")"
   ]
  },
  {
   "cell_type": "code",
   "execution_count": null,
   "id": "60e3d663-c5e2-4f4d-8edc-1ebfc099ddf0",
   "metadata": {
    "tags": []
   },
   "outputs": [],
   "source": [
    "px.scatter_mapbox(data,lat=\"lat\", lon=\"lon\", color=\"amenity\" ,hover_name=\"name\",size_max=30, zoom=3, width=1200, height=800)"
   ]
  }
 ],
 "metadata": {
  "kernelspec": {
   "display_name": "Python 3 (ipykernel)",
   "language": "python",
   "name": "python3"
  },
  "language_info": {
   "codemirror_mode": {
    "name": "ipython",
    "version": 3
   },
   "file_extension": ".py",
   "mimetype": "text/x-python",
   "name": "python",
   "nbconvert_exporter": "python",
   "pygments_lexer": "ipython3",
   "version": "3.9.7"
  }
 },
 "nbformat": 4,
 "nbformat_minor": 5
}
